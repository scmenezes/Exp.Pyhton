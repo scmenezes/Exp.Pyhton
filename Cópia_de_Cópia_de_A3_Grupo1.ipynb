{
  "nbformat": 4,
  "nbformat_minor": 0,
  "metadata": {
    "colab": {
      "provenance": [],
      "include_colab_link": true
    },
    "kernelspec": {
      "name": "python3",
      "display_name": "Python 3"
    },
    "language_info": {
      "name": "python"
    }
  },
  "cells": [
    {
      "cell_type": "markdown",
      "metadata": {
        "id": "view-in-github",
        "colab_type": "text"
      },
      "source": [
        "<a href=\"https://colab.research.google.com/github/scmenezes/Exp.Pyhton/blob/main/C%C3%B3pia_de_C%C3%B3pia_de_A3_Grupo1.ipynb\" target=\"_parent\"><img src=\"https://colab.research.google.com/assets/colab-badge.svg\" alt=\"Open In Colab\"/></a>"
      ]
    },
    {
      "cell_type": "code",
      "execution_count": null,
      "metadata": {
        "colab": {
          "base_uri": "https://localhost:8080/"
        },
        "id": "3tm3G4ERZv7I",
        "outputId": "bd696f18-8c7a-4ff5-eb60-8eb6a444caa9"
      },
      "outputs": [
        {
          "output_type": "stream",
          "name": "stdout",
          "text": [
            "Requirement already satisfied: wooldridge in /usr/local/lib/python3.10/dist-packages (0.4.5)\n",
            "Requirement already satisfied: pandas in /usr/local/lib/python3.10/dist-packages (from wooldridge) (2.2.2)\n",
            "Requirement already satisfied: numpy>=1.22.4 in /usr/local/lib/python3.10/dist-packages (from pandas->wooldridge) (1.26.4)\n",
            "Requirement already satisfied: python-dateutil>=2.8.2 in /usr/local/lib/python3.10/dist-packages (from pandas->wooldridge) (2.8.2)\n",
            "Requirement already satisfied: pytz>=2020.1 in /usr/local/lib/python3.10/dist-packages (from pandas->wooldridge) (2024.2)\n",
            "Requirement already satisfied: tzdata>=2022.7 in /usr/local/lib/python3.10/dist-packages (from pandas->wooldridge) (2024.2)\n",
            "Requirement already satisfied: six>=1.5 in /usr/local/lib/python3.10/dist-packages (from python-dateutil>=2.8.2->pandas->wooldridge) (1.16.0)\n",
            "Requirement already satisfied: openpyxl in /usr/local/lib/python3.10/dist-packages (3.1.5)\n",
            "Requirement already satisfied: et-xmlfile in /usr/local/lib/python3.10/dist-packages (from openpyxl) (2.0.0)\n"
          ]
        }
      ],
      "source": [
        "import pandas as pd\n",
        "!pip install wooldridge\n",
        "import wooldridge as woo\n",
        "import numpy as np\n",
        "import statsmodels.api as sm\n",
        "import statsmodels.formula.api as smf\n",
        "import statsmodels.stats.api as sms\n",
        "import matplotlib.pyplot as plt\n",
        "from datetime import datetime\n",
        "from statsmodels.compat import lzip\n",
        "!pip install openpyxl\n",
        "from sklearn.impute import SimpleImputer\n",
        "from statsmodels.stats.outliers_influence import variance_inflation_factor\n",
        "from statsmodels.stats.outliers_influence import reset_ramsey"
      ]
    },
    {
      "cell_type": "code",
      "source": [
        "from os import rename\n",
        "url = 'https://github.com/user-attachments/files/17535133/base.3.xlsx'\n",
        "dados = pd.read_excel(url, engine='openpyxl')\n",
        "dados = dados.rename(columns={'LN (PL)': 'LNPL'})\n",
        "dados['NPL2'] = dados['NPL']**2\n",
        "dados.head()"
      ],
      "metadata": {
        "colab": {
          "base_uri": "https://localhost:8080/",
          "height": 206
        },
        "id": "6SpGyb8oZ8P1",
        "outputId": "a6d529bd-db23-4269-cc11-c4ed611bfd01"
      },
      "execution_count": null,
      "outputs": [
        {
          "output_type": "execute_result",
          "data": {
            "text/plain": [
              "                     Banco        Data     CAR       NPL       OEE       OEA  \\\n",
              "0  ABC-BRASIL - PRUDENCIAL  01/03/2015  0.1418  0.005505  0.921871  0.048033   \n",
              "1  ABC-BRASIL - PRUDENCIAL  01/06/2015   0.148  0.006903  0.906518  0.051512   \n",
              "2  ABC-BRASIL - PRUDENCIAL  01/09/2015  0.1457  0.008960  0.957599  0.022030   \n",
              "3  ABC-BRASIL - PRUDENCIAL  01/12/2015  0.1618  0.009675  0.924366  0.037147   \n",
              "4  ABC-BRASIL - PRUDENCIAL  01/03/2016  0.1715  0.010241  0.713493  0.099475   \n",
              "\n",
              "        NPM       ROA       ROE       LDR       GAP      LNPL      NPL2  \n",
              "0  0.337526  0.013520  0.137432  2.273738  0.294694  6.357152  0.000030  \n",
              "1  0.034312  0.002273  0.022478  2.087783  0.316286  6.368324  0.000048  \n",
              "2 -1.099624 -0.033681 -0.366542  2.211927  0.320475  6.387535  0.000080  \n",
              "3 -0.197628 -0.013869 -0.133723  2.311428  0.337879  6.399615  0.000094  \n",
              "4 -3.500967 -0.007947 -0.070892  2.721443  0.319613  6.419933  0.000105  "
            ],
            "text/html": [
              "\n",
              "  <div id=\"df-61f8a947-309f-4f09-895f-af146396ef47\" class=\"colab-df-container\">\n",
              "    <div>\n",
              "<style scoped>\n",
              "    .dataframe tbody tr th:only-of-type {\n",
              "        vertical-align: middle;\n",
              "    }\n",
              "\n",
              "    .dataframe tbody tr th {\n",
              "        vertical-align: top;\n",
              "    }\n",
              "\n",
              "    .dataframe thead th {\n",
              "        text-align: right;\n",
              "    }\n",
              "</style>\n",
              "<table border=\"1\" class=\"dataframe\">\n",
              "  <thead>\n",
              "    <tr style=\"text-align: right;\">\n",
              "      <th></th>\n",
              "      <th>Banco</th>\n",
              "      <th>Data</th>\n",
              "      <th>CAR</th>\n",
              "      <th>NPL</th>\n",
              "      <th>OEE</th>\n",
              "      <th>OEA</th>\n",
              "      <th>NPM</th>\n",
              "      <th>ROA</th>\n",
              "      <th>ROE</th>\n",
              "      <th>LDR</th>\n",
              "      <th>GAP</th>\n",
              "      <th>LNPL</th>\n",
              "      <th>NPL2</th>\n",
              "    </tr>\n",
              "  </thead>\n",
              "  <tbody>\n",
              "    <tr>\n",
              "      <th>0</th>\n",
              "      <td>ABC-BRASIL - PRUDENCIAL</td>\n",
              "      <td>01/03/2015</td>\n",
              "      <td>0.1418</td>\n",
              "      <td>0.005505</td>\n",
              "      <td>0.921871</td>\n",
              "      <td>0.048033</td>\n",
              "      <td>0.337526</td>\n",
              "      <td>0.013520</td>\n",
              "      <td>0.137432</td>\n",
              "      <td>2.273738</td>\n",
              "      <td>0.294694</td>\n",
              "      <td>6.357152</td>\n",
              "      <td>0.000030</td>\n",
              "    </tr>\n",
              "    <tr>\n",
              "      <th>1</th>\n",
              "      <td>ABC-BRASIL - PRUDENCIAL</td>\n",
              "      <td>01/06/2015</td>\n",
              "      <td>0.148</td>\n",
              "      <td>0.006903</td>\n",
              "      <td>0.906518</td>\n",
              "      <td>0.051512</td>\n",
              "      <td>0.034312</td>\n",
              "      <td>0.002273</td>\n",
              "      <td>0.022478</td>\n",
              "      <td>2.087783</td>\n",
              "      <td>0.316286</td>\n",
              "      <td>6.368324</td>\n",
              "      <td>0.000048</td>\n",
              "    </tr>\n",
              "    <tr>\n",
              "      <th>2</th>\n",
              "      <td>ABC-BRASIL - PRUDENCIAL</td>\n",
              "      <td>01/09/2015</td>\n",
              "      <td>0.1457</td>\n",
              "      <td>0.008960</td>\n",
              "      <td>0.957599</td>\n",
              "      <td>0.022030</td>\n",
              "      <td>-1.099624</td>\n",
              "      <td>-0.033681</td>\n",
              "      <td>-0.366542</td>\n",
              "      <td>2.211927</td>\n",
              "      <td>0.320475</td>\n",
              "      <td>6.387535</td>\n",
              "      <td>0.000080</td>\n",
              "    </tr>\n",
              "    <tr>\n",
              "      <th>3</th>\n",
              "      <td>ABC-BRASIL - PRUDENCIAL</td>\n",
              "      <td>01/12/2015</td>\n",
              "      <td>0.1618</td>\n",
              "      <td>0.009675</td>\n",
              "      <td>0.924366</td>\n",
              "      <td>0.037147</td>\n",
              "      <td>-0.197628</td>\n",
              "      <td>-0.013869</td>\n",
              "      <td>-0.133723</td>\n",
              "      <td>2.311428</td>\n",
              "      <td>0.337879</td>\n",
              "      <td>6.399615</td>\n",
              "      <td>0.000094</td>\n",
              "    </tr>\n",
              "    <tr>\n",
              "      <th>4</th>\n",
              "      <td>ABC-BRASIL - PRUDENCIAL</td>\n",
              "      <td>01/03/2016</td>\n",
              "      <td>0.1715</td>\n",
              "      <td>0.010241</td>\n",
              "      <td>0.713493</td>\n",
              "      <td>0.099475</td>\n",
              "      <td>-3.500967</td>\n",
              "      <td>-0.007947</td>\n",
              "      <td>-0.070892</td>\n",
              "      <td>2.721443</td>\n",
              "      <td>0.319613</td>\n",
              "      <td>6.419933</td>\n",
              "      <td>0.000105</td>\n",
              "    </tr>\n",
              "  </tbody>\n",
              "</table>\n",
              "</div>\n",
              "    <div class=\"colab-df-buttons\">\n",
              "\n",
              "  <div class=\"colab-df-container\">\n",
              "    <button class=\"colab-df-convert\" onclick=\"convertToInteractive('df-61f8a947-309f-4f09-895f-af146396ef47')\"\n",
              "            title=\"Convert this dataframe to an interactive table.\"\n",
              "            style=\"display:none;\">\n",
              "\n",
              "  <svg xmlns=\"http://www.w3.org/2000/svg\" height=\"24px\" viewBox=\"0 -960 960 960\">\n",
              "    <path d=\"M120-120v-720h720v720H120Zm60-500h600v-160H180v160Zm220 220h160v-160H400v160Zm0 220h160v-160H400v160ZM180-400h160v-160H180v160Zm440 0h160v-160H620v160ZM180-180h160v-160H180v160Zm440 0h160v-160H620v160Z\"/>\n",
              "  </svg>\n",
              "    </button>\n",
              "\n",
              "  <style>\n",
              "    .colab-df-container {\n",
              "      display:flex;\n",
              "      gap: 12px;\n",
              "    }\n",
              "\n",
              "    .colab-df-convert {\n",
              "      background-color: #E8F0FE;\n",
              "      border: none;\n",
              "      border-radius: 50%;\n",
              "      cursor: pointer;\n",
              "      display: none;\n",
              "      fill: #1967D2;\n",
              "      height: 32px;\n",
              "      padding: 0 0 0 0;\n",
              "      width: 32px;\n",
              "    }\n",
              "\n",
              "    .colab-df-convert:hover {\n",
              "      background-color: #E2EBFA;\n",
              "      box-shadow: 0px 1px 2px rgba(60, 64, 67, 0.3), 0px 1px 3px 1px rgba(60, 64, 67, 0.15);\n",
              "      fill: #174EA6;\n",
              "    }\n",
              "\n",
              "    .colab-df-buttons div {\n",
              "      margin-bottom: 4px;\n",
              "    }\n",
              "\n",
              "    [theme=dark] .colab-df-convert {\n",
              "      background-color: #3B4455;\n",
              "      fill: #D2E3FC;\n",
              "    }\n",
              "\n",
              "    [theme=dark] .colab-df-convert:hover {\n",
              "      background-color: #434B5C;\n",
              "      box-shadow: 0px 1px 3px 1px rgba(0, 0, 0, 0.15);\n",
              "      filter: drop-shadow(0px 1px 2px rgba(0, 0, 0, 0.3));\n",
              "      fill: #FFFFFF;\n",
              "    }\n",
              "  </style>\n",
              "\n",
              "    <script>\n",
              "      const buttonEl =\n",
              "        document.querySelector('#df-61f8a947-309f-4f09-895f-af146396ef47 button.colab-df-convert');\n",
              "      buttonEl.style.display =\n",
              "        google.colab.kernel.accessAllowed ? 'block' : 'none';\n",
              "\n",
              "      async function convertToInteractive(key) {\n",
              "        const element = document.querySelector('#df-61f8a947-309f-4f09-895f-af146396ef47');\n",
              "        const dataTable =\n",
              "          await google.colab.kernel.invokeFunction('convertToInteractive',\n",
              "                                                    [key], {});\n",
              "        if (!dataTable) return;\n",
              "\n",
              "        const docLinkHtml = 'Like what you see? Visit the ' +\n",
              "          '<a target=\"_blank\" href=https://colab.research.google.com/notebooks/data_table.ipynb>data table notebook</a>'\n",
              "          + ' to learn more about interactive tables.';\n",
              "        element.innerHTML = '';\n",
              "        dataTable['output_type'] = 'display_data';\n",
              "        await google.colab.output.renderOutput(dataTable, element);\n",
              "        const docLink = document.createElement('div');\n",
              "        docLink.innerHTML = docLinkHtml;\n",
              "        element.appendChild(docLink);\n",
              "      }\n",
              "    </script>\n",
              "  </div>\n",
              "\n",
              "\n",
              "<div id=\"df-c6ad266d-66fa-4fbd-8f5b-62d087b0b019\">\n",
              "  <button class=\"colab-df-quickchart\" onclick=\"quickchart('df-c6ad266d-66fa-4fbd-8f5b-62d087b0b019')\"\n",
              "            title=\"Suggest charts\"\n",
              "            style=\"display:none;\">\n",
              "\n",
              "<svg xmlns=\"http://www.w3.org/2000/svg\" height=\"24px\"viewBox=\"0 0 24 24\"\n",
              "     width=\"24px\">\n",
              "    <g>\n",
              "        <path d=\"M19 3H5c-1.1 0-2 .9-2 2v14c0 1.1.9 2 2 2h14c1.1 0 2-.9 2-2V5c0-1.1-.9-2-2-2zM9 17H7v-7h2v7zm4 0h-2V7h2v10zm4 0h-2v-4h2v4z\"/>\n",
              "    </g>\n",
              "</svg>\n",
              "  </button>\n",
              "\n",
              "<style>\n",
              "  .colab-df-quickchart {\n",
              "      --bg-color: #E8F0FE;\n",
              "      --fill-color: #1967D2;\n",
              "      --hover-bg-color: #E2EBFA;\n",
              "      --hover-fill-color: #174EA6;\n",
              "      --disabled-fill-color: #AAA;\n",
              "      --disabled-bg-color: #DDD;\n",
              "  }\n",
              "\n",
              "  [theme=dark] .colab-df-quickchart {\n",
              "      --bg-color: #3B4455;\n",
              "      --fill-color: #D2E3FC;\n",
              "      --hover-bg-color: #434B5C;\n",
              "      --hover-fill-color: #FFFFFF;\n",
              "      --disabled-bg-color: #3B4455;\n",
              "      --disabled-fill-color: #666;\n",
              "  }\n",
              "\n",
              "  .colab-df-quickchart {\n",
              "    background-color: var(--bg-color);\n",
              "    border: none;\n",
              "    border-radius: 50%;\n",
              "    cursor: pointer;\n",
              "    display: none;\n",
              "    fill: var(--fill-color);\n",
              "    height: 32px;\n",
              "    padding: 0;\n",
              "    width: 32px;\n",
              "  }\n",
              "\n",
              "  .colab-df-quickchart:hover {\n",
              "    background-color: var(--hover-bg-color);\n",
              "    box-shadow: 0 1px 2px rgba(60, 64, 67, 0.3), 0 1px 3px 1px rgba(60, 64, 67, 0.15);\n",
              "    fill: var(--button-hover-fill-color);\n",
              "  }\n",
              "\n",
              "  .colab-df-quickchart-complete:disabled,\n",
              "  .colab-df-quickchart-complete:disabled:hover {\n",
              "    background-color: var(--disabled-bg-color);\n",
              "    fill: var(--disabled-fill-color);\n",
              "    box-shadow: none;\n",
              "  }\n",
              "\n",
              "  .colab-df-spinner {\n",
              "    border: 2px solid var(--fill-color);\n",
              "    border-color: transparent;\n",
              "    border-bottom-color: var(--fill-color);\n",
              "    animation:\n",
              "      spin 1s steps(1) infinite;\n",
              "  }\n",
              "\n",
              "  @keyframes spin {\n",
              "    0% {\n",
              "      border-color: transparent;\n",
              "      border-bottom-color: var(--fill-color);\n",
              "      border-left-color: var(--fill-color);\n",
              "    }\n",
              "    20% {\n",
              "      border-color: transparent;\n",
              "      border-left-color: var(--fill-color);\n",
              "      border-top-color: var(--fill-color);\n",
              "    }\n",
              "    30% {\n",
              "      border-color: transparent;\n",
              "      border-left-color: var(--fill-color);\n",
              "      border-top-color: var(--fill-color);\n",
              "      border-right-color: var(--fill-color);\n",
              "    }\n",
              "    40% {\n",
              "      border-color: transparent;\n",
              "      border-right-color: var(--fill-color);\n",
              "      border-top-color: var(--fill-color);\n",
              "    }\n",
              "    60% {\n",
              "      border-color: transparent;\n",
              "      border-right-color: var(--fill-color);\n",
              "    }\n",
              "    80% {\n",
              "      border-color: transparent;\n",
              "      border-right-color: var(--fill-color);\n",
              "      border-bottom-color: var(--fill-color);\n",
              "    }\n",
              "    90% {\n",
              "      border-color: transparent;\n",
              "      border-bottom-color: var(--fill-color);\n",
              "    }\n",
              "  }\n",
              "</style>\n",
              "\n",
              "  <script>\n",
              "    async function quickchart(key) {\n",
              "      const quickchartButtonEl =\n",
              "        document.querySelector('#' + key + ' button');\n",
              "      quickchartButtonEl.disabled = true;  // To prevent multiple clicks.\n",
              "      quickchartButtonEl.classList.add('colab-df-spinner');\n",
              "      try {\n",
              "        const charts = await google.colab.kernel.invokeFunction(\n",
              "            'suggestCharts', [key], {});\n",
              "      } catch (error) {\n",
              "        console.error('Error during call to suggestCharts:', error);\n",
              "      }\n",
              "      quickchartButtonEl.classList.remove('colab-df-spinner');\n",
              "      quickchartButtonEl.classList.add('colab-df-quickchart-complete');\n",
              "    }\n",
              "    (() => {\n",
              "      let quickchartButtonEl =\n",
              "        document.querySelector('#df-c6ad266d-66fa-4fbd-8f5b-62d087b0b019 button');\n",
              "      quickchartButtonEl.style.display =\n",
              "        google.colab.kernel.accessAllowed ? 'block' : 'none';\n",
              "    })();\n",
              "  </script>\n",
              "</div>\n",
              "\n",
              "    </div>\n",
              "  </div>\n"
            ],
            "application/vnd.google.colaboratory.intrinsic+json": {
              "type": "dataframe",
              "variable_name": "dados",
              "summary": "{\n  \"name\": \"dados\",\n  \"rows\": 2321,\n  \"fields\": [\n    {\n      \"column\": \"Banco\",\n      \"properties\": {\n        \"dtype\": \"category\",\n        \"num_unique_values\": 63,\n        \"samples\": [\n          \"SOFISA - PRUDENCIAL\",\n          \"SANTANDER - PRUDENCIAL\",\n          \"ABC-BRASIL - PRUDENCIAL\"\n        ],\n        \"semantic_type\": \"\",\n        \"description\": \"\"\n      }\n    },\n    {\n      \"column\": \"Data\",\n      \"properties\": {\n        \"dtype\": \"object\",\n        \"num_unique_values\": 38,\n        \"samples\": [\n          \"01/06/2023\",\n          \"01/03/2024\",\n          \"01/03/2016\"\n        ],\n        \"semantic_type\": \"\",\n        \"description\": \"\"\n      }\n    },\n    {\n      \"column\": \"CAR\",\n      \"properties\": {\n        \"dtype\": \"string\",\n        \"num_unique_values\": 1449,\n        \"samples\": [\n          0.121,\n          0.4029,\n          0.1252\n        ],\n        \"semantic_type\": \"\",\n        \"description\": \"\"\n      }\n    },\n    {\n      \"column\": \"NPL\",\n      \"properties\": {\n        \"dtype\": \"number\",\n        \"std\": 0.06396750638157553,\n        \"min\": 0.0,\n        \"max\": 0.964901478,\n        \"num_unique_values\": 1782,\n        \"samples\": [\n          0.030492869,\n          0.038892742,\n          0.010089032\n        ],\n        \"semantic_type\": \"\",\n        \"description\": \"\"\n      }\n    },\n    {\n      \"column\": \"OEE\",\n      \"properties\": {\n        \"dtype\": \"number\",\n        \"std\": 0.26183574606050575,\n        \"min\": -2.056309904,\n        \"max\": 4.756901408,\n        \"num_unique_values\": 2260,\n        \"samples\": [\n          0.770870071,\n          0.869626186,\n          0.941801586\n        ],\n        \"semantic_type\": \"\",\n        \"description\": \"\"\n      }\n    },\n    {\n      \"column\": \"OEA\",\n      \"properties\": {\n        \"dtype\": \"number\",\n        \"std\": 0.12227507247259786,\n        \"min\": -1.28600939,\n        \"max\": 1.016069221,\n        \"num_unique_values\": 2256,\n        \"samples\": [\n          0.143938459,\n          0.136958053,\n          0.098767231\n        ],\n        \"semantic_type\": \"\",\n        \"description\": \"\"\n      }\n    },\n    {\n      \"column\": \"NPM\",\n      \"properties\": {\n        \"dtype\": \"number\",\n        \"std\": 54.79411542297482,\n        \"min\": -104.9158911,\n        \"max\": 2634.572917,\n        \"num_unique_values\": 2260,\n        \"samples\": [\n          -0.13930634,\n          0.037105,\n          0.513827863\n        ],\n        \"semantic_type\": \"\",\n        \"description\": \"\"\n      }\n    },\n    {\n      \"column\": \"ROA\",\n      \"properties\": {\n        \"dtype\": \"number\",\n        \"std\": 0.0280911690996487,\n        \"min\": -0.536420102,\n        \"max\": 0.33791076,\n        \"num_unique_values\": 2260,\n        \"samples\": [\n          -0.008629761,\n          0.003631375,\n          0.007769881\n        ],\n        \"semantic_type\": \"\",\n        \"description\": \"\"\n      }\n    },\n    {\n      \"column\": \"ROE\",\n      \"properties\": {\n        \"dtype\": \"number\",\n        \"std\": 0.7832578495200869,\n        \"min\": -5.188452066,\n        \"max\": 21.87043189,\n        \"num_unique_values\": 2259,\n        \"samples\": [\n          -0.06030203,\n          -0.111420775,\n          0.282466575\n        ],\n        \"semantic_type\": \"\",\n        \"description\": \"\"\n      }\n    },\n    {\n      \"column\": \"LDR\",\n      \"properties\": {\n        \"dtype\": \"number\",\n        \"std\": 16239.551796699765,\n        \"min\": -0.386631219,\n        \"max\": 676722.5,\n        \"num_unique_values\": 2187,\n        \"samples\": [\n          1.179475848,\n          4.702258668,\n          3.054607509\n        ],\n        \"semantic_type\": \"\",\n        \"description\": \"\"\n      }\n    },\n    {\n      \"column\": \"GAP\",\n      \"properties\": {\n        \"dtype\": \"number\",\n        \"std\": 6.861551471495835,\n        \"min\": -225.1627027,\n        \"max\": 0.986053238,\n        \"num_unique_values\": 2260,\n        \"samples\": [\n          0.49334501,\n          0.422426105,\n          0.142562227\n        ],\n        \"semantic_type\": \"\",\n        \"description\": \"\"\n      }\n    },\n    {\n      \"column\": \"LNPL\",\n      \"properties\": {\n        \"dtype\": \"number\",\n        \"std\": 0.9475814664184774,\n        \"min\": 2.779596491,\n        \"max\": 8.286218158,\n        \"num_unique_values\": 2257,\n        \"samples\": [\n          6.457383458,\n          4.601473298,\n          5.407723934\n        ],\n        \"semantic_type\": \"\",\n        \"description\": \"\"\n      }\n    },\n    {\n      \"column\": \"NPL2\",\n      \"properties\": {\n        \"dtype\": \"number\",\n        \"std\": 0.033997104031608154,\n        \"min\": 0.0,\n        \"max\": 0.9310348622465846,\n        \"num_unique_values\": 1782,\n        \"samples\": [\n          0.0009298150598511609,\n          0.001512645380278564,\n          0.00010178856669702399\n        ],\n        \"semantic_type\": \"\",\n        \"description\": \"\"\n      }\n    }\n  ]\n}"
            }
          },
          "metadata": {},
          "execution_count": 153
        }
      ]
    },
    {
      "cell_type": "code",
      "source": [
        "colunas_com_faltantes = dados.columns[dados.isnull().any()].tolist()\n",
        "print(colunas_com_faltantes)\n",
        "dados['CAR'] = pd.to_numeric(dados['CAR'], errors='coerce')\n",
        "\n",
        "imputer = SimpleImputer(strategy='mean')\n",
        "dados['CAR'] = imputer.fit_transform(dados[['CAR']])\n",
        "dados['NPM'] = imputer.fit_transform(dados[['NPM']])\n",
        "dados['ROA'] = imputer.fit_transform(dados[['ROA']])\n",
        "dados['ROE'] = imputer.fit_transform(dados[['ROE']])\n",
        "dados['OEE'] = imputer.fit_transform(dados[['OEE']])"
      ],
      "metadata": {
        "colab": {
          "base_uri": "https://localhost:8080/"
        },
        "id": "1d7PexzaZ_0P",
        "outputId": "7bff384c-75f4-4d9c-9838-79dca30feae5"
      },
      "execution_count": null,
      "outputs": [
        {
          "output_type": "stream",
          "name": "stdout",
          "text": [
            "['CAR', 'NPL', 'OEE', 'OEA', 'NPM', 'ROA', 'ROE', 'LDR', 'GAP', 'LNPL', 'NPL2']\n"
          ]
        }
      ]
    },
    {
      "cell_type": "code",
      "source": [
        "dados['Banco'] = dados['Banco'].apply(lambda x: 1 if x in ['CAIXA ECONÔMICA FEDERAL - PRUDENCIAL','BB - PRUDENCIAL', 'BANRISUL - PRUDENCIAL','BANESTES - PRUDENCIAL','BCO DA AMAZONIA S.A. - PRUDENCIAL','BCO DO NORDESTE DO BRASIL S.A. - PRUDENCIAL'] else 0)"
      ],
      "metadata": {
        "id": "t-fgHStIoNRD"
      },
      "execution_count": null,
      "outputs": []
    },
    {
      "cell_type": "code",
      "source": [
        "formula3 = 'CAR ~ ROA + OEE + NPL+ ROE + GAP + LNPL + NPL2 + Banco'\n",
        "results3 = smf.ols(formula3, dados).fit(cov_type='HAC',cov_kwds={'maxlags':6,'use_correction':True})\n",
        "print(results3.summary())\n",
        "y_fitted = results3.fittedvalues\n",
        "residuals3 = results3.resid"
      ],
      "metadata": {
        "colab": {
          "base_uri": "https://localhost:8080/"
        },
        "id": "0_Qu1dyYaEC4",
        "outputId": "1f502f56-f493-4b04-cb2b-5a2a2bbedf97"
      },
      "execution_count": null,
      "outputs": [
        {
          "output_type": "stream",
          "name": "stdout",
          "text": [
            "                            OLS Regression Results                            \n",
            "==============================================================================\n",
            "Dep. Variable:                    CAR   R-squared:                       0.134\n",
            "Model:                            OLS   Adj. R-squared:                  0.131\n",
            "Method:                 Least Squares   F-statistic:                     7.982\n",
            "Date:                Thu, 28 Nov 2024   Prob (F-statistic):           1.18e-10\n",
            "Time:                        16:18:23   Log-Likelihood:                 377.99\n",
            "No. Observations:                2228   AIC:                            -738.0\n",
            "Df Residuals:                    2219   BIC:                            -686.6\n",
            "Df Model:                           8                                         \n",
            "Covariance Type:                  HAC                                         \n",
            "==============================================================================\n",
            "                 coef    std err          z      P>|z|      [0.025      0.975]\n",
            "------------------------------------------------------------------------------\n",
            "Intercept      0.6470      0.088      7.323      0.000       0.474       0.820\n",
            "ROA           -0.3360      0.431     -0.780      0.435      -1.180       0.508\n",
            "OEE           -0.0797      0.044     -1.825      0.068      -0.165       0.006\n",
            "NPL            0.0188      0.337      0.056      0.956      -0.643       0.680\n",
            "ROE           -0.0105      0.005     -2.108      0.035      -0.020      -0.001\n",
            "GAP           -0.0013      0.001     -1.976      0.048      -0.003      -1e-05\n",
            "LNPL          -0.0595      0.011     -5.311      0.000      -0.082      -0.038\n",
            "NPL2           0.9043      0.907      0.997      0.319      -0.874       2.682\n",
            "Banco         -0.0361      0.013     -2.793      0.005      -0.061      -0.011\n",
            "==============================================================================\n",
            "Omnibus:                     1913.702   Durbin-Watson:                   0.277\n",
            "Prob(Omnibus):                  0.000   Jarque-Bera (JB):            58313.889\n",
            "Skew:                           3.994   Prob(JB):                         0.00\n",
            "Kurtosis:                      26.756   Cond. No.                         420.\n",
            "==============================================================================\n",
            "\n",
            "Notes:\n",
            "[1] Standard Errors are heteroscedasticity and autocorrelation robust (HAC) using 6 lags and with small sample correction\n"
          ]
        }
      ]
    },
    {
      "cell_type": "markdown",
      "source": [
        "# ETAPA 1"
      ],
      "metadata": {
        "id": "cZJdLYhochvV"
      }
    },
    {
      "cell_type": "code",
      "source": [
        "plt.figure(1)\n",
        "plt.plot(results3.resid)\n",
        "plt.xlabel('Data')\n",
        "plt.ylabel('Resíduos')\n",
        "plt.grid(True)\n",
        "plt.show()"
      ],
      "metadata": {
        "colab": {
          "base_uri": "https://localhost:8080/",
          "height": 449
        },
        "id": "2pANKxeFaRbF",
        "outputId": "070ab5b7-e3bb-48dc-e435-ff6d8afc856c"
      },
      "execution_count": null,
      "outputs": [
        {
          "output_type": "display_data",
          "data": {
            "text/plain": [
              "<Figure size 640x480 with 1 Axes>"
            ],
            "image/png": "[encoded data removed]"
          },
          "metadata": {}
        }
      ]
    },
    {
      "cell_type": "code",
      "source": [
        "# Obtendo os resíduos\n",
        "residuos = results3.resid\n",
        "\n",
        "# Gerando o histograma dos resíduos\n",
        "plt.hist(residuos, color='lightgreen', edgecolor='black', density=True)\n",
        "plt.xlabel(\"Resíduos\")\n",
        "plt.ylabel(\"Frequência\")\n",
        "plt.title(\"Histograma dos Resíduos\")\n",
        "plt.show()\n",
        "\n",
        "###### COLOCAR UMA LINHA DA NORMAL  ################"
      ],
      "metadata": {
        "colab": {
          "base_uri": "https://localhost:8080/",
          "height": 472
        },
        "id": "vHqOIC_8St-C",
        "outputId": "20ed0b2d-8536-41b4-f0b6-d968698a23fd"
      },
      "execution_count": null,
      "outputs": [
        {
          "output_type": "display_data",
          "data": {
            "text/plain": [
              "<Figure size 640x480 with 1 Axes>"
            ],
            "image/png": "[encoded data removed]"
          },
          "metadata": {}
        }
      ]
    },
    {
      "cell_type": "markdown",
      "source": [
        "# ETAPA II"
      ],
      "metadata": {
        "id": "WTj3LMUYcpJL"
      }
    },
    {
      "cell_type": "markdown",
      "source": [
        "## Parte I"
      ],
      "metadata": {
        "id": "NgZiQgd1dStC"
      }
    },
    {
      "cell_type": "code",
      "source": [],
      "metadata": {
        "id": "NWyvA7R2ghcf"
      },
      "execution_count": null,
      "outputs": []
    },
    {
      "cell_type": "code",
      "source": [
        "# DataFrame 'df' com as variáveis independentes\n",
        "X = dados[['ROA', 'ROE', 'OEE', 'NPL', 'GAP', 'LNPL', 'NPL2', 'Banco']]\n",
        "X = sm.add_constant(X)  # Adiciona uma constante à matriz de dados\n",
        "\n",
        "# Handle missing or infinite values in X\n",
        "# Replace infinite values with NaN\n",
        "X = X.replace([np.inf, -np.inf], np.nan)\n",
        "\n",
        "# Drop rows with any missing values\n",
        "X = X.dropna()\n",
        "\n",
        "# Calcula o VIF para cada variável\n",
        "vif_data = pd.DataFrame()\n",
        "vif_data['Variável'] = X.columns\n",
        "vif_data['VIF'] = [variance_inflation_factor(X.values, i) for i in range(X.shape[1])]\n",
        "\n",
        "print(vif_data)"
      ],
      "metadata": {
        "colab": {
          "base_uri": "https://localhost:8080/"
        },
        "id": "tIRLXYvRcoY5",
        "outputId": "35260a01-4b14-4c88-d200-d337c5bdf38b"
      },
      "execution_count": null,
      "outputs": [
        {
          "output_type": "stream",
          "name": "stdout",
          "text": [
            "  Variável        VIF\n",
            "0    const  49.258900\n",
            "1      ROA   1.112897\n",
            "2      ROE   1.078039\n",
            "3      OEE   1.064459\n",
            "4      NPL   3.470992\n",
            "5      GAP   1.004988\n",
            "6     LNPL   1.155337\n",
            "7     NPL2   3.424700\n",
            "8    Banco   1.067698\n"
          ]
        }
      ]
    },
    {
      "cell_type": "markdown",
      "source": [
        "## Parte II"
      ],
      "metadata": {
        "id": "5iy8GW_ThB26"
      }
    },
    {
      "cell_type": "code",
      "source": [],
      "metadata": {
        "id": "JQ-Ral3sY-eE"
      },
      "execution_count": null,
      "outputs": []
    },
    {
      "cell_type": "code",
      "source": [
        "from statsmodels.stats.outliers_influence import reset_ramsey\n",
        "reset_ramsey(results3,degree=4)"
      ],
      "metadata": {
        "colab": {
          "base_uri": "https://localhost:8080/"
        },
        "id": "WYxJFlESgr-k",
        "outputId": "b50dbe31-611e-40fd-be34-358e3c7b9f77"
      },
      "execution_count": null,
      "outputs": [
        {
          "output_type": "execute_result",
          "data": {
            "text/plain": [
              "<class 'statsmodels.stats.contrast.ContrastResults'>\n",
              "<F test: F=13.775215413859287, p=6.686922735796665e-09, df_denom=2.22e+03, df_num=3>"
            ]
          },
          "metadata": {},
          "execution_count": 160
        }
      ]
    },
    {
      "cell_type": "markdown",
      "source": [
        "## Parte III"
      ],
      "metadata": {
        "id": "CuhhcimPbUnf"
      }
    },
    {
      "cell_type": "code",
      "source": [
        "from sklearn.decomposition import PCA\n",
        "from sklearn.preprocessing import StandardScaler\n",
        "import statsmodels.api as sm\n",
        "\n",
        "# Vamos aproveitar a matriz X criada anteriormente, e criar agora o vetor y para a variável dependente\n",
        "y = dados['CAR']\n",
        "\n",
        "# Para implementar a ACP, é necessário padronizar os dados\n",
        "scaler = StandardScaler()\n",
        "X_scaled = scaler.fit_transform(X)\n"
      ],
      "metadata": {
        "id": "dd4F2p0bXVsw"
      },
      "execution_count": null,
      "outputs": []
    },
    {
      "cell_type": "code",
      "source": [
        "# Verificando se há uma coluna constante (todas as entradas são iguais)\n",
        "print(\"Matriz X escalonada original:\")\n",
        "print(X_scaled)"
      ],
      "metadata": {
        "colab": {
          "base_uri": "https://localhost:8080/"
        },
        "id": "Mmf_iN3bg0k-",
        "outputId": "26159b32-7ced-4ed1-96cf-03717a3b86db"
      },
      "execution_count": null,
      "outputs": [
        {
          "output_type": "stream",
          "name": "stdout",
          "text": [
            "Matriz X escalonada original:\n",
            "[[ 0.00000000e+00  4.30464608e-01  1.09385677e-01 ...  2.69110776e-01\n",
            "  -1.44403671e-01 -3.00032614e-01]\n",
            " [ 0.00000000e+00  2.82825414e-02 -3.46456567e-02 ...  2.80878681e-01\n",
            "  -1.43893568e-01 -3.00032614e-01]\n",
            " [ 0.00000000e+00 -1.25743107e+00 -5.22066217e-01 ...  3.01113495e-01\n",
            "  -1.42934197e-01 -3.00032614e-01]\n",
            " ...\n",
            " [ 0.00000000e+00  1.91732112e-01  2.39417179e-02 ...  1.10109126e+00\n",
            "  -1.14003401e-01 -3.00032614e-01]\n",
            " [ 0.00000000e+00  3.53028895e-02 -3.28662330e-02 ...  1.10142728e+00\n",
            "  -1.21778756e-01 -3.00032614e-01]\n",
            " [ 0.00000000e+00  1.36997542e-01  1.02731337e-05 ...  1.10700628e+00\n",
            "  -1.24816243e-01 -3.00032614e-01]]\n"
          ]
        }
      ]
    },
    {
      "cell_type": "code",
      "source": [
        "# Remover a constante da matriz (se houver)\n",
        "X_scaled_no_const = X_scaled[:, ~np.all(X_scaled == X_scaled[0, :], axis=0)]  # Remove as colunas com valores iguais\n",
        "\n",
        "# Verificando o resultado após a remoção\n",
        "print(\"\\nMatriz X escalonada sem a constante:\")\n",
        "print(X_scaled_no_const)"
      ],
      "metadata": {
        "id": "RBmDcdAPXVhY",
        "colab": {
          "base_uri": "https://localhost:8080/"
        },
        "outputId": "3c8d4638-cfbb-411f-b275-b58844253900"
      },
      "execution_count": null,
      "outputs": [
        {
          "output_type": "stream",
          "name": "stdout",
          "text": [
            "\n",
            "Matriz X escalonada sem a constante:\n",
            "[[ 4.30464608e-01  1.09385677e-01  1.37374389e+00 ...  2.69110776e-01\n",
            "  -1.44403671e-01 -3.00032614e-01]\n",
            " [ 2.82825414e-02 -3.46456567e-02  1.31457342e+00 ...  2.80878681e-01\n",
            "  -1.43893568e-01 -3.00032614e-01]\n",
            " [-1.25743107e+00 -5.22066217e-01  1.51143778e+00 ...  3.01113495e-01\n",
            "  -1.42934197e-01 -3.00032614e-01]\n",
            " ...\n",
            " [ 1.91732112e-01  2.39417179e-02  5.49660615e-01 ...  1.10109126e+00\n",
            "  -1.14003401e-01 -3.00032614e-01]\n",
            " [ 3.53028895e-02 -3.28662330e-02  5.20484959e-01 ...  1.10142728e+00\n",
            "  -1.21778756e-01 -3.00032614e-01]\n",
            " [ 1.36997542e-01  1.02731337e-05  6.14261843e-01 ...  1.10700628e+00\n",
            "  -1.24816243e-01 -3.00032614e-01]]\n"
          ]
        }
      ]
    },
    {
      "cell_type": "code",
      "source": [
        "# Aplicando PCA e selecionando o número de componentes\n",
        "X_scaled = X_scaled_no_const\n",
        "pca = PCA(n_components=2)  # Estima 2 componentes principais\n",
        "X_pca = pca.fit_transform(X_scaled) #Implementa o PCA na matriz padronizada"
      ],
      "metadata": {
        "id": "HcBWCJzxg8T9"
      },
      "execution_count": null,
      "outputs": []
    },
    {
      "cell_type": "code",
      "source": [
        "# Variância explicada por cada componente e variância cumulativa\n",
        "explained_variance = pca.explained_variance_ratio_\n",
        "cumulative_variance = explained_variance.cumsum()\n",
        "\n",
        "# Criar um DataFrame com a variância explicada e a variância cumulativa\n",
        "variance_df = pd.DataFrame({\n",
        "    'Componente Principal': [f'PC{i+1}' for i in range(len(explained_variance))],\n",
        "    'Variância Explicada (%)': explained_variance * 100,\n",
        "    'Variância Cumulativa (%)': cumulative_variance * 100\n",
        "})\n",
        "\n",
        "# Gráfico de barras para variância explicada por cada componente\n",
        "plt.figure(figsize=(10, 6))\n",
        "plt.bar(range(1, len(explained_variance) + 1), explained_variance, alpha=0.7, align='center', color='b', label='Variância Explicada')\n",
        "plt.step(range(1, len(explained_variance) + 1), explained_variance.cumsum(), where='mid', color='r', label='Variância Explicada Cumulativa')\n",
        "plt.xlabel('Número do Componente Principal')\n",
        "plt.ylabel('Proporção da Variância Explicada')\n",
        "plt.title('Variância Explicada por Cada Componente Principal')\n",
        "plt.legend(loc='best')\n",
        "plt.show()"
      ],
      "metadata": {
        "colab": {
          "base_uri": "https://localhost:8080/",
          "height": 565
        },
        "id": "Tn8OhW3Vg-1d",
        "outputId": "ec61935b-1f2c-4e27-e57d-c2eb7887323b"
      },
      "execution_count": null,
      "outputs": [
        {
          "output_type": "display_data",
          "data": {
            "text/plain": [
              "<Figure size 1000x600 with 1 Axes>"
            ],
            "image/png": "[encoded data removed]"
          },
          "metadata": {}
        }
      ]
    },
    {
      "cell_type": "code",
      "source": [
        "variaveis = ['ROA', 'ROE', 'OEE', 'NPL', 'GAP', 'LNPL', 'NPL2', 'Banco']\n",
        "X_df = pd.DataFrame(X_scaled, columns=variaveis) #converte uma matriz Numpy em um DataFrame pandas\n",
        "\n",
        "# Visualizando os loadings (composição dos componentes principais)\n",
        "loadings =pca.components_.T  # Transpor para facilitar a interpretação\n",
        "\n",
        "# Transformar as loadings em um DataFrame para melhor visualização:\n",
        "loadings_df = pd.DataFrame(loadings, index=X_df.columns, columns=[f'PC{i+1}' for i in range(loadings.shape[1])])\n",
        "\n",
        "# Exibir as loadings\n",
        "print(loadings_df)"
      ],
      "metadata": {
        "colab": {
          "base_uri": "https://localhost:8080/"
        },
        "id": "-qEJtNHihDEd",
        "outputId": "7861754e-cb0b-42c6-f534-b95cfc612dab"
      },
      "execution_count": null,
      "outputs": [
        {
          "output_type": "stream",
          "name": "stdout",
          "text": [
            "            PC1       PC2\n",
            "ROA   -0.153725  0.583888\n",
            "ROE    0.046067  0.420428\n",
            "OEE   -0.238281  0.151867\n",
            "NPL    0.649019  0.210142\n",
            "GAP    0.023248  0.036737\n",
            "LNPL  -0.267738  0.464854\n",
            "NPL2   0.641437  0.214327\n",
            "Banco -0.112146  0.389508\n"
          ]
        }
      ]
    },
    {
      "cell_type": "code",
      "source": [
        "# Ajustando o modelo de regressão linear Ortogonal usando apenas o primeiro componente principal\n",
        "# Selecionar apenas o primeiro componente principal (PC1) para a regressão\n",
        "X_pc1 = X_pca[:, 0].reshape(-1, 1)  # Seleciona apenas a primeira coluna (PC1)\n",
        "X_pc1 = sm.add_constant(X_pc1)\n",
        "print(X_pc1)"
      ],
      "metadata": {
        "colab": {
          "base_uri": "https://localhost:8080/"
        },
        "id": "kTBFRyzFiGJq",
        "outputId": "c08c1292-e86b-44f0-8fac-5ab7429b86bf"
      },
      "execution_count": null,
      "outputs": [
        {
          "output_type": "stream",
          "name": "stdout",
          "text": [
            "[[ 1.         -0.75759959]\n",
            " [ 1.         -0.67688211]\n",
            " [ 1.         -0.5325262 ]\n",
            " ...\n",
            " [ 1.         -0.4563425 ]\n",
            " [ 1.         -0.47722859]\n",
            " [ 1.         -0.55139006]]\n"
          ]
        }
      ]
    },
    {
      "cell_type": "code",
      "source": [
        "# Ajustando o modelo de regressão linear Ortogonal usando apenas o primeiro componente principal\n",
        "# Selecionar apenas o primeiro componente principal (PC1) para a regressão\n",
        "X_pc1 = X_pca[:, 0].reshape(-1, 1)  # Seleciona apenas a primeira coluna (PC1)\n",
        "print\n",
        "# Adicionar uma constante para o intercepto\n",
        "X_pc1 = sm.add_constant(X_pc1)\n",
        "\n",
        "print(f\"Tamanho de y: {y.shape}\")\n",
        "print(f\"Tamanho de X_pc1: {X_pc1.shape}\")\n"
      ],
      "metadata": {
        "colab": {
          "base_uri": "https://localhost:8080/"
        },
        "id": "QrPoZqGFhTc9",
        "outputId": "d5386558-d06b-4855-ef02-52b1b0583655"
      },
      "execution_count": null,
      "outputs": [
        {
          "output_type": "stream",
          "name": "stdout",
          "text": [
            "Tamanho de y: (2321,)\n",
            "Tamanho de X_pc1: (2228, 2)\n"
          ]
        }
      ]
    },
    {
      "cell_type": "code",
      "source": [
        "# Ajustar o modelo de regressão linear usando apenas o primeiro componente principal (PC1)\n",
        "reg_Ortogonal = sm.OLS(y, X_pc1).fit()\n",
        "print(reg_Ortogonal.summary())"
      ],
      "metadata": {
        "id": "9eLuNIPHjn2U",
        "colab": {
          "base_uri": "https://localhost:8080/",
          "height": 321
        },
        "outputId": "e151e24a-881a-4651-a0ac-958e25223d3d"
      },
      "execution_count": null,
      "outputs": [
        {
          "output_type": "error",
          "ename": "ValueError",
          "evalue": "endog and exog matrices are different sizes",
          "traceback": [
            "\u001b[0;31m---------------------------------------------------------------------------\u001b[0m",
            "\u001b[0;31mValueError\u001b[0m                                Traceback (most recent call last)",
            "\u001b[0;32m<ipython-input-170-32eb66ab06f6>\u001b[0m in \u001b[0;36m<cell line: 2>\u001b[0;34m()\u001b[0m\n\u001b[1;32m      1\u001b[0m \u001b[0;31m# Ajustar o modelo de regressão linear usando apenas o primeiro componente principal (PC1)\u001b[0m\u001b[0;34m\u001b[0m\u001b[0;34m\u001b[0m\u001b[0m\n\u001b[0;32m----> 2\u001b[0;31m \u001b[0mreg_Ortogonal\u001b[0m \u001b[0;34m=\u001b[0m \u001b[0msm\u001b[0m\u001b[0;34m.\u001b[0m\u001b[0mOLS\u001b[0m\u001b[0;34m(\u001b[0m\u001b[0my\u001b[0m\u001b[0;34m,\u001b[0m \u001b[0mX_pc1\u001b[0m\u001b[0;34m)\u001b[0m\u001b[0;34m.\u001b[0m\u001b[0mfit\u001b[0m\u001b[0;34m(\u001b[0m\u001b[0;34m)\u001b[0m\u001b[0;34m\u001b[0m\u001b[0;34m\u001b[0m\u001b[0m\n\u001b[0m\u001b[1;32m      3\u001b[0m \u001b[0mprint\u001b[0m\u001b[0;34m(\u001b[0m\u001b[0mreg_Ortogonal\u001b[0m\u001b[0;34m.\u001b[0m\u001b[0msummary\u001b[0m\u001b[0;34m(\u001b[0m\u001b[0;34m)\u001b[0m\u001b[0;34m)\u001b[0m\u001b[0;34m\u001b[0m\u001b[0;34m\u001b[0m\u001b[0m\n",
            "\u001b[0;32m/usr/local/lib/python3.10/dist-packages/statsmodels/regression/linear_model.py\u001b[0m in \u001b[0;36m__init__\u001b[0;34m(self, endog, exog, missing, hasconst, **kwargs)\u001b[0m\n\u001b[1;32m    919\u001b[0m                    \"An exception will be raised in the next version.\")\n\u001b[1;32m    920\u001b[0m             \u001b[0mwarnings\u001b[0m\u001b[0;34m.\u001b[0m\u001b[0mwarn\u001b[0m\u001b[0;34m(\u001b[0m\u001b[0mmsg\u001b[0m\u001b[0;34m,\u001b[0m \u001b[0mValueWarning\u001b[0m\u001b[0;34m)\u001b[0m\u001b[0;34m\u001b[0m\u001b[0;34m\u001b[0m\u001b[0m\n\u001b[0;32m--> 921\u001b[0;31m         super().__init__(endog, exog, missing=missing,\n\u001b[0m\u001b[1;32m    922\u001b[0m                                   hasconst=hasconst, **kwargs)\n\u001b[1;32m    923\u001b[0m         \u001b[0;32mif\u001b[0m \u001b[0;34m\"weights\"\u001b[0m \u001b[0;32min\u001b[0m \u001b[0mself\u001b[0m\u001b[0;34m.\u001b[0m\u001b[0m_init_keys\u001b[0m\u001b[0;34m:\u001b[0m\u001b[0;34m\u001b[0m\u001b[0;34m\u001b[0m\u001b[0m\n",
            "\u001b[0;32m/usr/local/lib/python3.10/dist-packages/statsmodels/regression/linear_model.py\u001b[0m in \u001b[0;36m__init__\u001b[0;34m(self, endog, exog, weights, missing, hasconst, **kwargs)\u001b[0m\n\u001b[1;32m    744\u001b[0m         \u001b[0;32melse\u001b[0m\u001b[0;34m:\u001b[0m\u001b[0;34m\u001b[0m\u001b[0;34m\u001b[0m\u001b[0m\n\u001b[1;32m    745\u001b[0m             \u001b[0mweights\u001b[0m \u001b[0;34m=\u001b[0m \u001b[0mweights\u001b[0m\u001b[0;34m.\u001b[0m\u001b[0msqueeze\u001b[0m\u001b[0;34m(\u001b[0m\u001b[0;34m)\u001b[0m\u001b[0;34m\u001b[0m\u001b[0;34m\u001b[0m\u001b[0m\n\u001b[0;32m--> 746\u001b[0;31m         super().__init__(endog, exog, missing=missing,\n\u001b[0m\u001b[1;32m    747\u001b[0m                                   weights=weights, hasconst=hasconst, **kwargs)\n\u001b[1;32m    748\u001b[0m         \u001b[0mnobs\u001b[0m \u001b[0;34m=\u001b[0m \u001b[0mself\u001b[0m\u001b[0;34m.\u001b[0m\u001b[0mexog\u001b[0m\u001b[0;34m.\u001b[0m\u001b[0mshape\u001b[0m\u001b[0;34m[\u001b[0m\u001b[0;36m0\u001b[0m\u001b[0;34m]\u001b[0m\u001b[0;34m\u001b[0m\u001b[0;34m\u001b[0m\u001b[0m\n",
            "\u001b[0;32m/usr/local/lib/python3.10/dist-packages/statsmodels/regression/linear_model.py\u001b[0m in \u001b[0;36m__init__\u001b[0;34m(self, endog, exog, **kwargs)\u001b[0m\n\u001b[1;32m    198\u001b[0m     \"\"\"\n\u001b[1;32m    199\u001b[0m     \u001b[0;32mdef\u001b[0m \u001b[0m__init__\u001b[0m\u001b[0;34m(\u001b[0m\u001b[0mself\u001b[0m\u001b[0;34m,\u001b[0m \u001b[0mendog\u001b[0m\u001b[0;34m,\u001b[0m \u001b[0mexog\u001b[0m\u001b[0;34m,\u001b[0m \u001b[0;34m**\u001b[0m\u001b[0mkwargs\u001b[0m\u001b[0;34m)\u001b[0m\u001b[0;34m:\u001b[0m\u001b[0;34m\u001b[0m\u001b[0;34m\u001b[0m\u001b[0m\n\u001b[0;32m--> 200\u001b[0;31m         \u001b[0msuper\u001b[0m\u001b[0;34m(\u001b[0m\u001b[0;34m)\u001b[0m\u001b[0;34m.\u001b[0m\u001b[0m__init__\u001b[0m\u001b[0;34m(\u001b[0m\u001b[0mendog\u001b[0m\u001b[0;34m,\u001b[0m \u001b[0mexog\u001b[0m\u001b[0;34m,\u001b[0m \u001b[0;34m**\u001b[0m\u001b[0mkwargs\u001b[0m\u001b[0;34m)\u001b[0m\u001b[0;34m\u001b[0m\u001b[0;34m\u001b[0m\u001b[0m\n\u001b[0m\u001b[1;32m    201\u001b[0m         \u001b[0mself\u001b[0m\u001b[0;34m.\u001b[0m\u001b[0mpinv_wexog\u001b[0m\u001b[0;34m:\u001b[0m \u001b[0mFloat64Array\u001b[0m \u001b[0;34m|\u001b[0m \u001b[0;32mNone\u001b[0m \u001b[0;34m=\u001b[0m \u001b[0;32mNone\u001b[0m\u001b[0;34m\u001b[0m\u001b[0;34m\u001b[0m\u001b[0m\n\u001b[1;32m    202\u001b[0m         \u001b[0mself\u001b[0m\u001b[0;34m.\u001b[0m\u001b[0m_data_attr\u001b[0m\u001b[0;34m.\u001b[0m\u001b[0mextend\u001b[0m\u001b[0;34m(\u001b[0m\u001b[0;34m[\u001b[0m\u001b[0;34m'pinv_wexog'\u001b[0m\u001b[0;34m,\u001b[0m \u001b[0;34m'wendog'\u001b[0m\u001b[0;34m,\u001b[0m \u001b[0;34m'wexog'\u001b[0m\u001b[0;34m,\u001b[0m \u001b[0;34m'weights'\u001b[0m\u001b[0;34m]\u001b[0m\u001b[0;34m)\u001b[0m\u001b[0;34m\u001b[0m\u001b[0;34m\u001b[0m\u001b[0m\n",
            "\u001b[0;32m/usr/local/lib/python3.10/dist-packages/statsmodels/base/model.py\u001b[0m in \u001b[0;36m__init__\u001b[0;34m(self, endog, exog, **kwargs)\u001b[0m\n\u001b[1;32m    268\u001b[0m \u001b[0;34m\u001b[0m\u001b[0m\n\u001b[1;32m    269\u001b[0m     \u001b[0;32mdef\u001b[0m \u001b[0m__init__\u001b[0m\u001b[0;34m(\u001b[0m\u001b[0mself\u001b[0m\u001b[0;34m,\u001b[0m \u001b[0mendog\u001b[0m\u001b[0;34m,\u001b[0m \u001b[0mexog\u001b[0m\u001b[0;34m=\u001b[0m\u001b[0;32mNone\u001b[0m\u001b[0;34m,\u001b[0m \u001b[0;34m**\u001b[0m\u001b[0mkwargs\u001b[0m\u001b[0;34m)\u001b[0m\u001b[0;34m:\u001b[0m\u001b[0;34m\u001b[0m\u001b[0;34m\u001b[0m\u001b[0m\n\u001b[0;32m--> 270\u001b[0;31m         \u001b[0msuper\u001b[0m\u001b[0;34m(\u001b[0m\u001b[0;34m)\u001b[0m\u001b[0;34m.\u001b[0m\u001b[0m__init__\u001b[0m\u001b[0;34m(\u001b[0m\u001b[0mendog\u001b[0m\u001b[0;34m,\u001b[0m \u001b[0mexog\u001b[0m\u001b[0;34m,\u001b[0m \u001b[0;34m**\u001b[0m\u001b[0mkwargs\u001b[0m\u001b[0;34m)\u001b[0m\u001b[0;34m\u001b[0m\u001b[0;34m\u001b[0m\u001b[0m\n\u001b[0m\u001b[1;32m    271\u001b[0m         \u001b[0mself\u001b[0m\u001b[0;34m.\u001b[0m\u001b[0minitialize\u001b[0m\u001b[0;34m(\u001b[0m\u001b[0;34m)\u001b[0m\u001b[0;34m\u001b[0m\u001b[0;34m\u001b[0m\u001b[0m\n\u001b[1;32m    272\u001b[0m \u001b[0;34m\u001b[0m\u001b[0m\n",
            "\u001b[0;32m/usr/local/lib/python3.10/dist-packages/statsmodels/base/model.py\u001b[0m in \u001b[0;36m__init__\u001b[0;34m(self, endog, exog, **kwargs)\u001b[0m\n\u001b[1;32m     93\u001b[0m         \u001b[0mmissing\u001b[0m \u001b[0;34m=\u001b[0m \u001b[0mkwargs\u001b[0m\u001b[0;34m.\u001b[0m\u001b[0mpop\u001b[0m\u001b[0;34m(\u001b[0m\u001b[0;34m'missing'\u001b[0m\u001b[0;34m,\u001b[0m \u001b[0;34m'none'\u001b[0m\u001b[0;34m)\u001b[0m\u001b[0;34m\u001b[0m\u001b[0;34m\u001b[0m\u001b[0m\n\u001b[1;32m     94\u001b[0m         \u001b[0mhasconst\u001b[0m \u001b[0;34m=\u001b[0m \u001b[0mkwargs\u001b[0m\u001b[0;34m.\u001b[0m\u001b[0mpop\u001b[0m\u001b[0;34m(\u001b[0m\u001b[0;34m'hasconst'\u001b[0m\u001b[0;34m,\u001b[0m \u001b[0;32mNone\u001b[0m\u001b[0;34m)\u001b[0m\u001b[0;34m\u001b[0m\u001b[0;34m\u001b[0m\u001b[0m\n\u001b[0;32m---> 95\u001b[0;31m         self.data = self._handle_data(endog, exog, missing, hasconst,\n\u001b[0m\u001b[1;32m     96\u001b[0m                                       **kwargs)\n\u001b[1;32m     97\u001b[0m         \u001b[0mself\u001b[0m\u001b[0;34m.\u001b[0m\u001b[0mk_constant\u001b[0m \u001b[0;34m=\u001b[0m \u001b[0mself\u001b[0m\u001b[0;34m.\u001b[0m\u001b[0mdata\u001b[0m\u001b[0;34m.\u001b[0m\u001b[0mk_constant\u001b[0m\u001b[0;34m\u001b[0m\u001b[0;34m\u001b[0m\u001b[0m\n",
            "\u001b[0;32m/usr/local/lib/python3.10/dist-packages/statsmodels/base/model.py\u001b[0m in \u001b[0;36m_handle_data\u001b[0;34m(self, endog, exog, missing, hasconst, **kwargs)\u001b[0m\n\u001b[1;32m    133\u001b[0m \u001b[0;34m\u001b[0m\u001b[0m\n\u001b[1;32m    134\u001b[0m     \u001b[0;32mdef\u001b[0m \u001b[0m_handle_data\u001b[0m\u001b[0;34m(\u001b[0m\u001b[0mself\u001b[0m\u001b[0;34m,\u001b[0m \u001b[0mendog\u001b[0m\u001b[0;34m,\u001b[0m \u001b[0mexog\u001b[0m\u001b[0;34m,\u001b[0m \u001b[0mmissing\u001b[0m\u001b[0;34m,\u001b[0m \u001b[0mhasconst\u001b[0m\u001b[0;34m,\u001b[0m \u001b[0;34m**\u001b[0m\u001b[0mkwargs\u001b[0m\u001b[0;34m)\u001b[0m\u001b[0;34m:\u001b[0m\u001b[0;34m\u001b[0m\u001b[0;34m\u001b[0m\u001b[0m\n\u001b[0;32m--> 135\u001b[0;31m         \u001b[0mdata\u001b[0m \u001b[0;34m=\u001b[0m \u001b[0mhandle_data\u001b[0m\u001b[0;34m(\u001b[0m\u001b[0mendog\u001b[0m\u001b[0;34m,\u001b[0m \u001b[0mexog\u001b[0m\u001b[0;34m,\u001b[0m \u001b[0mmissing\u001b[0m\u001b[0;34m,\u001b[0m \u001b[0mhasconst\u001b[0m\u001b[0;34m,\u001b[0m \u001b[0;34m**\u001b[0m\u001b[0mkwargs\u001b[0m\u001b[0;34m)\u001b[0m\u001b[0;34m\u001b[0m\u001b[0;34m\u001b[0m\u001b[0m\n\u001b[0m\u001b[1;32m    136\u001b[0m         \u001b[0;31m# kwargs arrays could have changed, easier to just attach here\u001b[0m\u001b[0;34m\u001b[0m\u001b[0;34m\u001b[0m\u001b[0m\n\u001b[1;32m    137\u001b[0m         \u001b[0;32mfor\u001b[0m \u001b[0mkey\u001b[0m \u001b[0;32min\u001b[0m \u001b[0mkwargs\u001b[0m\u001b[0;34m:\u001b[0m\u001b[0;34m\u001b[0m\u001b[0;34m\u001b[0m\u001b[0m\n",
            "\u001b[0;32m/usr/local/lib/python3.10/dist-packages/statsmodels/base/data.py\u001b[0m in \u001b[0;36mhandle_data\u001b[0;34m(endog, exog, missing, hasconst, **kwargs)\u001b[0m\n\u001b[1;32m    673\u001b[0m \u001b[0;34m\u001b[0m\u001b[0m\n\u001b[1;32m    674\u001b[0m     \u001b[0mklass\u001b[0m \u001b[0;34m=\u001b[0m \u001b[0mhandle_data_class_factory\u001b[0m\u001b[0;34m(\u001b[0m\u001b[0mendog\u001b[0m\u001b[0;34m,\u001b[0m \u001b[0mexog\u001b[0m\u001b[0;34m)\u001b[0m\u001b[0;34m\u001b[0m\u001b[0;34m\u001b[0m\u001b[0m\n\u001b[0;32m--> 675\u001b[0;31m     return klass(endog, exog=exog, missing=missing, hasconst=hasconst,\n\u001b[0m\u001b[1;32m    676\u001b[0m                  **kwargs)\n",
            "\u001b[0;32m/usr/local/lib/python3.10/dist-packages/statsmodels/base/data.py\u001b[0m in \u001b[0;36m__init__\u001b[0;34m(self, endog, exog, missing, hasconst, **kwargs)\u001b[0m\n\u001b[1;32m     87\u001b[0m         \u001b[0mself\u001b[0m\u001b[0;34m.\u001b[0m\u001b[0mk_constant\u001b[0m \u001b[0;34m=\u001b[0m \u001b[0;36m0\u001b[0m\u001b[0;34m\u001b[0m\u001b[0;34m\u001b[0m\u001b[0m\n\u001b[1;32m     88\u001b[0m         \u001b[0mself\u001b[0m\u001b[0;34m.\u001b[0m\u001b[0m_handle_constant\u001b[0m\u001b[0;34m(\u001b[0m\u001b[0mhasconst\u001b[0m\u001b[0;34m)\u001b[0m\u001b[0;34m\u001b[0m\u001b[0;34m\u001b[0m\u001b[0m\n\u001b[0;32m---> 89\u001b[0;31m         \u001b[0mself\u001b[0m\u001b[0;34m.\u001b[0m\u001b[0m_check_integrity\u001b[0m\u001b[0;34m(\u001b[0m\u001b[0;34m)\u001b[0m\u001b[0;34m\u001b[0m\u001b[0;34m\u001b[0m\u001b[0m\n\u001b[0m\u001b[1;32m     90\u001b[0m         \u001b[0mself\u001b[0m\u001b[0;34m.\u001b[0m\u001b[0m_cache\u001b[0m \u001b[0;34m=\u001b[0m \u001b[0;34m{\u001b[0m\u001b[0;34m}\u001b[0m\u001b[0;34m\u001b[0m\u001b[0;34m\u001b[0m\u001b[0m\n\u001b[1;32m     91\u001b[0m \u001b[0;34m\u001b[0m\u001b[0m\n",
            "\u001b[0;32m/usr/local/lib/python3.10/dist-packages/statsmodels/base/data.py\u001b[0m in \u001b[0;36m_check_integrity\u001b[0;34m(self)\u001b[0m\n\u001b[1;32m    532\u001b[0m                 not self.orig_endog.index.equals(self.orig_exog.index)):\n\u001b[1;32m    533\u001b[0m             \u001b[0;32mraise\u001b[0m \u001b[0mValueError\u001b[0m\u001b[0;34m(\u001b[0m\u001b[0;34m\"The indices for endog and exog are not aligned\"\u001b[0m\u001b[0;34m)\u001b[0m\u001b[0;34m\u001b[0m\u001b[0;34m\u001b[0m\u001b[0m\n\u001b[0;32m--> 534\u001b[0;31m         \u001b[0msuper\u001b[0m\u001b[0;34m(\u001b[0m\u001b[0;34m)\u001b[0m\u001b[0;34m.\u001b[0m\u001b[0m_check_integrity\u001b[0m\u001b[0;34m(\u001b[0m\u001b[0;34m)\u001b[0m\u001b[0;34m\u001b[0m\u001b[0;34m\u001b[0m\u001b[0m\n\u001b[0m\u001b[1;32m    535\u001b[0m \u001b[0;34m\u001b[0m\u001b[0m\n\u001b[1;32m    536\u001b[0m     \u001b[0;32mdef\u001b[0m \u001b[0m_get_row_labels\u001b[0m\u001b[0;34m(\u001b[0m\u001b[0mself\u001b[0m\u001b[0;34m,\u001b[0m \u001b[0marr\u001b[0m\u001b[0;34m)\u001b[0m\u001b[0;34m:\u001b[0m\u001b[0;34m\u001b[0m\u001b[0;34m\u001b[0m\u001b[0m\n",
            "\u001b[0;32m/usr/local/lib/python3.10/dist-packages/statsmodels/base/data.py\u001b[0m in \u001b[0;36m_check_integrity\u001b[0;34m(self)\u001b[0m\n\u001b[1;32m    434\u001b[0m         \u001b[0;32mif\u001b[0m \u001b[0mself\u001b[0m\u001b[0;34m.\u001b[0m\u001b[0mexog\u001b[0m \u001b[0;32mis\u001b[0m \u001b[0;32mnot\u001b[0m \u001b[0;32mNone\u001b[0m\u001b[0;34m:\u001b[0m\u001b[0;34m\u001b[0m\u001b[0;34m\u001b[0m\u001b[0m\n\u001b[1;32m    435\u001b[0m             \u001b[0;32mif\u001b[0m \u001b[0mlen\u001b[0m\u001b[0;34m(\u001b[0m\u001b[0mself\u001b[0m\u001b[0;34m.\u001b[0m\u001b[0mexog\u001b[0m\u001b[0;34m)\u001b[0m \u001b[0;34m!=\u001b[0m \u001b[0mlen\u001b[0m\u001b[0;34m(\u001b[0m\u001b[0mself\u001b[0m\u001b[0;34m.\u001b[0m\u001b[0mendog\u001b[0m\u001b[0;34m)\u001b[0m\u001b[0;34m:\u001b[0m\u001b[0;34m\u001b[0m\u001b[0;34m\u001b[0m\u001b[0m\n\u001b[0;32m--> 436\u001b[0;31m                 \u001b[0;32mraise\u001b[0m \u001b[0mValueError\u001b[0m\u001b[0;34m(\u001b[0m\u001b[0;34m\"endog and exog matrices are different sizes\"\u001b[0m\u001b[0;34m)\u001b[0m\u001b[0;34m\u001b[0m\u001b[0;34m\u001b[0m\u001b[0m\n\u001b[0m\u001b[1;32m    437\u001b[0m \u001b[0;34m\u001b[0m\u001b[0m\n\u001b[1;32m    438\u001b[0m     \u001b[0;32mdef\u001b[0m \u001b[0mwrap_output\u001b[0m\u001b[0;34m(\u001b[0m\u001b[0mself\u001b[0m\u001b[0;34m,\u001b[0m \u001b[0mobj\u001b[0m\u001b[0;34m,\u001b[0m \u001b[0mhow\u001b[0m\u001b[0;34m=\u001b[0m\u001b[0;34m'columns'\u001b[0m\u001b[0;34m,\u001b[0m \u001b[0mnames\u001b[0m\u001b[0;34m=\u001b[0m\u001b[0;32mNone\u001b[0m\u001b[0;34m)\u001b[0m\u001b[0;34m:\u001b[0m\u001b[0;34m\u001b[0m\u001b[0;34m\u001b[0m\u001b[0m\n",
            "\u001b[0;31mValueError\u001b[0m: endog and exog matrices are different sizes"
          ]
        }
      ]
    },
    {
      "cell_type": "code",
      "source": [
        "import numpy as np\n",
        "import pandas as pd\n",
        "import matplotlib.pyplot as plt\n",
        "from sklearn.decomposition import PCA\n",
        "from sklearn.preprocessing import StandardScaler\n",
        "import statsmodels.api as sm\n",
        "\n",
        "# Criando o vetor y com as variáveis dependentes\n",
        "y = dados[['ROA', 'ROE', 'OEE', 'NPL', 'GAP', 'LNPL', 'NPL2', 'Banco']]\n",
        "\n",
        "# Padronizar os dados de X\n",
        "scaler = StandardScaler()\n",
        "X_scaled = scaler.fit_transform(X)\n",
        "\n",
        "# Verificando se há uma coluna constante (todas as entradas são iguais)\n",
        "print(\"Matriz X escalonada original:\")\n",
        "\n",
        "# Remover a constante da matriz (se houver)\n",
        "X_scaled_no_const = X_scaled[:, ~np.all(X_scaled == X_scaled[0, :], axis=0)]  # Remove as colunas com valores iguais\n",
        "\n",
        "# Verificando o resultado após a remoção\n",
        "print(\"\\nMatriz X escalonada sem a constante:\")\n",
        "print(X_scaled_no_const)\n",
        "\n",
        "# Aplicando PCA e selecionando o número de componentes\n",
        "pca = PCA(n_components=2)  # Estima 2 componentes principais\n",
        "X_pca = pca.fit_transform(X_scaled_no_const)  # Implementa o PCA na matriz padronizada\n",
        "\n",
        "# Variância explicada por cada componente e variância cumulativa\n",
        "explained_variance = pca.explained_variance_ratio_\n",
        "cumulative_variance = explained_variance.cumsum()\n",
        "\n",
        "# Criar um DataFrame com a variância explicada e a variância cumulativa\n",
        "variance_df = pd.DataFrame({\n",
        "    'Componente Principal': [f'PC{i+1}' for i in range(len(explained_variance))],\n",
        "    'Variância Explicada (%)': explained_variance * 100,\n",
        "    'Variância Cumulativa (%)': cumulative_variance * 100\n",
        "})\n",
        "\n",
        "# Gráfico de barras para variância explicada por cada componente\n",
        "plt.figure(figsize=(10, 6))\n",
        "plt.bar(range(1, len(explained_variance) + 1), explained_variance, alpha=0.7, align='center', color='b', label='Variância Explicada')\n",
        "plt.step(range(1, len(explained_variance) + 1), explained_variance.cumsum(), where='mid', color='r', label='Variância Explicada Cumulativa')\n",
        "plt.xlabel('Número do Componente Principal')\n",
        "plt.ylabel('Proporção da Variância Explicada')\n",
        "plt.title('Variância Explicada por Cada Componente Principal')\n",
        "plt.legend(loc='best')\n",
        "plt.show()\n",
        "\n",
        "# Convertendo a matriz escalonada para DataFrame para fácil visualização\n",
        "variaveis = ['ROA', 'ROE', 'OEE', 'NPL', 'GAP', 'LNPL', 'NPL2', 'Banco']\n",
        "X_df = pd.DataFrame(X_scaled_no_const, columns=variaveis)\n",
        "\n",
        "# Visualizando os loadings (composição dos componentes principais)\n",
        "loadings = pca.components_.T  # Transpor para facilitar a interpretação\n",
        "\n",
        "# Transformar as loadings em um DataFrame para melhor visualização\n",
        "loadings_df = pd.DataFrame(loadings, index=X_df.columns, columns=[f'PC{i+1}' for i in range(loadings.shape[1])])\n",
        "\n",
        "# Exibir as loadings\n",
        "print(loadings_df)\n",
        "\n",
        "# Ajustando o modelo de regressão linear Ortogonal usando apenas o primeiro componente principal\n",
        "# Se o número de linhas de y e X_pca não corresponder, o código falhará\n",
        "X_pc1 = X_pca[:, 0].reshape(-1, 1)  # Seleciona apenas o primeiro componente principal (PC1)\n",
        "\n",
        "# Agora, X_pc1 deve ter o mesmo número de observações que y\n",
        "print(f\"Tamanho de X_pc1: {X_pc1.shape}\")\n",
        "print(f\"Tamanho de y: {y.shape}\")\n",
        "\n",
        "# Se for necessário rodar para cada variável dependente, você pode ajustar o código abaixo para cada variável.\n",
        "for i in range(y.shape[1]):  # Para cada coluna de y (para cada variável dependente)\n",
        "    y_single = y.iloc[:, i]  # Seleciona a coluna de y\n",
        "    X_pc1_const = sm.add_constant(X_pc1)  # Adiciona uma constante para o intercepto\n",
        "\n",
        "    # Ajustar o modelo de regressão linear para cada variável dependente\n",
        "    reg_Ortogonal = sm.OLS(y_single, X_pc1_const).fit(cov_type='HAC', cov_kwds={'maxlags': 6, 'use_correction': True})\n",
        "\n",
        "    print(f\"Resultado da regressão para {y.columns[i]}:\")\n",
        "    print(reg_Ortogonal.summary())\n"
      ],
      "metadata": {
        "id": "qAZltahWbPcH"
      },
      "execution_count": null,
      "outputs": []
    },
    {
      "cell_type": "markdown",
      "source": [
        "# ETAPA 3"
      ],
      "metadata": {
        "id": "kTNXBgiQiW_J"
      }
    },
    {
      "cell_type": "code",
      "source": [
        "# Obtendo os resíduos studentizados\n",
        "studres = results3.get_influence().resid_studentized_external\n",
        "\n",
        "# Encontrando os índices das observações com os maiores resíduos studentizados em valor absoluto\n",
        "n_outliers = 5  # Número de outliers a serem exibidos\n",
        "outlier_indices = np.argsort(np.abs(studres))[-n_outliers:]\n",
        "\n",
        "#Criando uma função 'analisar_outliers' para apresentar os 5 maiores outliers do modelo estimado\n",
        "def analisar_outliers(data, formula_modelo, variaveis_interesse, n_outliers=5):\n",
        "  \"\"\"\n",
        "  Analisa outliers em um modelo de regressão com base nos resíduos studentizados.\n",
        "\n",
        "  Args:\n",
        "    data: DataFrame pandas contendo os dados.\n",
        "    formula_modelo: Fórmula do modelo de regressão no formato statsmodels.\n",
        "    variaveis_interesse: Lista de nomes das colunas das quais se deseja obter os valores para os outliers.\n",
        "    n_outliers: Número de outliers a serem exibidos (default=5).\n",
        "\n",
        "  Returns:\n",
        "    Exibe as observações com os maiores resíduos studentizados.\n",
        "  \"\"\"\n",
        "  # Regressão MQO:\n",
        "  reg = smf.ols(formula=formula_modelo, data=data) # Using formula_modelo and data parameters\n",
        "  results3 = reg.fit()\n",
        "\n",
        "  # Obtendo os resíduos studentizados (movido para dentro da função)\n",
        "  studres = results3.get_influence().resid_studentized_external\n",
        "\n",
        "  # Encontrando os índices das observações com os maiores resíduos studentizados em valor absoluto (movido para dentro da função)\n",
        "  outlier_indices = np.argsort(np.abs(studres))[-n_outliers:]\n",
        "\n",
        "  # Exibindo as observações com os maiores resíduos studentizados\n",
        "  print(\"Observações com os maiores resíduos studentizados:\")\n",
        "  for i in outlier_indices:\n",
        "      # Accessing columns using a list of column names\n",
        "      valores = data[variaveis_interesse[:2]].iloc[i].to_dict()\n",
        "      print(f\"Índice: {i}, Resíduo Studentizado: {studres[i]:.4f}, Valores: {valores}\")\n",
        "\n",
        "# Exemplo de uso:\n",
        "# Carregando os dados (substitua pelo seu dataset)\n",
        "data = dados #substitua pelo seu dataframe\n",
        "\n",
        "# Definindo a fórmula do modelo (substitua pela sua fórmula)\n",
        "formula_modelo = 'CAR ~ ROA + ROE + OEE + NPL + GAP + LNPL + NPL2 + Banco'\n",
        "\n",
        "# Definindo as variáveis de interesse\n",
        "variaveis_interesse = [\"Banco\",\"NPL2\",\"LNPL\",\"GAP\", \"NPL\", \"OEE\", \"ROE\", \"ROA\", \"CAR\"]\n",
        "\n",
        "# Analisando os outliers\n",
        "analisar_outliers(data, formula_modelo, variaveis_interesse)"
      ],
      "metadata": {
        "id": "FpfNzCXMibWJ"
      },
      "execution_count": null,
      "outputs": []
    },
    {
      "cell_type": "code",
      "source": [
        "# histograma (e densidade sobreposta):\n",
        "kde = sm.nonparametric.KDEUnivariate(studres)\n",
        "kde.fit()\n",
        "plt.hist(studres, color='orange',edgecolor='black', density=True)\n",
        "plt.plot(kde.support, kde.density, color='black', linewidth=2)\n",
        "plt.ylabel('densidade')\n",
        "plt.xlabel('studresid')\n",
        "\n",
        "\n",
        "######## TABELA DE REGRESSÃO ###################"
      ],
      "metadata": {
        "id": "GvV0Jl4bYN--"
      },
      "execution_count": null,
      "outputs": []
    },
    {
      "cell_type": "code",
      "source": [
        "# Sumário das medidas de influência\n",
        "influencia = results3.get_influence()\n",
        "summary_influencia = influencia.summary_frame()\n",
        "\n",
        "# Selecionando apenas as principais medidas de influência\n",
        "# Substituindo 'dfbeta' pelas colunas individuais de DFBETA para cada preditor\n",
        "principais_medidas = summary_influencia[\n",
        "    [\n",
        "        \"cooks_d\",  # Distância de Cook\n",
        "        \"dffits\",  # DFFITS\n",
        "        \"dfb_ROA\",  # DFBETA para 'sales'\n",
        "        \"dfb_ROE\",  # DFBETA para 'profmarg'\n",
        "        \"dfb_OEE\",  # DFBETA para 'sales'\n",
        "        \"dfb_NPL\",\n",
        "        \"dfb_GAP\",  # DFBETA para 'sales'\n",
        "        \"dfb_LNPL\",\n",
        "        \"dfb_NPL2\",  # DFBETA para 'sales'\n",
        "        \"dfb_Banco\",\n",
        "        \"student_resid\",  # Resíduos studentizados\n",
        "    ]\n",
        "]\n",
        "\n",
        "# Exibindo as principais medidas\n",
        "print(principais_medidas)"
      ],
      "metadata": {
        "collapsed": true,
        "id": "91BbQQKcYlv9"
      },
      "execution_count": null,
      "outputs": []
    },
    {
      "cell_type": "code",
      "source": [
        "# Definindo as variáveis independentes (X) e dependentes (Y)\n",
        "X = dados[['ROA' , 'ROE' , 'OEE' , 'NPL' , 'GAP' , 'LNPL' , 'NPL2' , 'Banco']]\n",
        "X = sm.add_constant(X)  # Adicionando uma constante para o intercepto\n",
        "y = dados['CAR']\n",
        "\n",
        "##############################################################\n",
        "X = X.replace([np.inf, -np.inf], np.nan)  # Substitui infinitos por NaNs\n",
        "X = X.dropna()  # Remove linhas com NaNs\n",
        "\n",
        "# Removendo as linhas correspondentes em y\n",
        "y = y[X.index]\n",
        "##########################################################################\n",
        "# Cria e ajusta o modelo de regressão\n",
        "model = sm.OLS(y, X).fit() # cria e ajusta o modelo\n",
        "\n",
        "# Número de observações e variáveis\n",
        "n = X.shape[0]\n",
        "p = X.shape[1]\n",
        "\n",
        "# Limiares para identificar outliers:\n",
        "# Distância de Cook\n",
        "cook_threshold = 4 / n\n",
        "# DFFIT: Usando 2 * sqrt(p/n)\n",
        "dffit_threshold = 2 * np.sqrt(p / n)\n",
        "\n",
        "# Obtém as medidas de influência do modelo ajustado\n",
        "influence = model.get_influence()\n",
        "\n",
        "# Extrai a distância de Cook\n",
        "cooks_distance = influence.cooks_distance[0] # extrai a distância de Cook\n",
        "\n",
        "# Extrai o DFFITS\n",
        "dffits = influence.dffits[0] # extrai o DFFITS\n",
        "\n",
        "# Extrai o DFBETA\n",
        "dfbeta = influence.dfbetas # extrai o DFBETA\n",
        "\n",
        "\n",
        "# Destacar outliers com base nos limiares\n",
        "outliers_cooks = np.where(cooks_distance > cook_threshold)[0]\n",
        "outliers_dffits = np.where(np.abs(dffits) > dffit_threshold)[0]\n",
        "outliers_dfbetas = np.where(np.abs(dfbeta) > 2)[0]  # Limite arbitrário de 2 para DFBETA\n",
        "outliers_studres = np.where(np.abs(studres) > 3)[0]  # Limite arbitrário de 3 para resíduos studentizados\n",
        "\n",
        "# Mostrar os índices dos outliers\n",
        "print(\"Outliers com base na Distância de Cook:\", outliers_cooks)\n",
        "print(\"Outliers com base no DFFIT:\", outliers_dffits)\n",
        "print(\"Outliers com base no DFBETA:\", outliers_dfbetas)\n",
        "print(\"Outliers com base no StudRes\", outliers_studres)"
      ],
      "metadata": {
        "id": "4X2ojLWSZcWj"
      },
      "execution_count": null,
      "outputs": []
    },
    {
      "cell_type": "code",
      "source": [
        "# Visualização (Destacar os outliers no gráfico de Cook's Distance)\n",
        "plt.scatter(range(n), cooks_distance, label='Distância de Cook')\n",
        "plt.axhline(y=cook_threshold, color='r', linestyle='--', label='Limiar de Cook')\n",
        "plt.scatter(outliers_cooks, cooks_distance[outliers_cooks], color='red', label='Outliers de Cook')\n",
        "plt.xlabel('Observações')\n",
        "plt.ylabel('Distância de Cook')\n",
        "plt.legend()\n",
        "plt.show()"
      ],
      "metadata": {
        "id": "s1JHBZDMY3_a"
      },
      "execution_count": null,
      "outputs": []
    },
    {
      "cell_type": "code",
      "source": [
        "# Criando uma variável dummy para os outliers\n",
        "outlier_series = pd.Series(np.zeros(len(dados)), index=dados.index)  # Initialize with 0s\n",
        "outlier_series[X.index] = np.where(cooks_distance > cook_threshold, 1, 0) # Assign outlier values for the filtered data\n",
        "\n",
        "\n",
        "# Adicionando a variável dummy no dataframe\n",
        "dados['OutlierDummy'] = outlier_series\n",
        "\n",
        "# Visualização da variável dummy\n",
        "print(\"Dados com Dummy para Outliers:\")\n",
        "print(dados)\n"
      ],
      "metadata": {
        "id": "_sD2RmPnZrNe"
      },
      "execution_count": null,
      "outputs": []
    },
    {
      "cell_type": "code",
      "source": [
        "# Ajustar o modelo incluindo a variável dummy\n",
        "\n",
        "dados.replace([np.inf, -np.inf], np.nan, inplace=True)\n",
        "\n",
        "# Drop rows with any missing values in the original dataframe\n",
        "# Alternatively, you can impute the missing values using various methods\n",
        "dados.dropna(inplace=True)\n",
        "\n",
        "# Ensure both dataframes have the same index before aligning:\n",
        "dados_outliers = dados[['ROA' , 'ROE' , 'OEE' , 'NPL' , 'GAP' , 'LNPL' , 'NPL2' , 'Banco','OutlierDummy']]\n",
        "\n",
        "# Instead of resetting index, filter dados_outliers using y's existing index\n",
        "dados_outliers = dados_outliers[dados_outliers.index.isin(y.index)]\n",
        "\n",
        "# Now y and dados_outliers have consistent rows\n",
        "# Add constant for the intercept\n",
        "dados_outliers = sm.add_constant(dados_outliers)\n",
        "\n",
        "# Fit the model with the dummy variable and aligned data\n",
        "modelo_com_dummy = sm.OLS(y.loc[dados_outliers.index], dados_outliers).fit(cov_type='HAC',cov_kwds={'maxlags':6,'use_correction':True}) # Use y values aligned with dados_outliers\n",
        "\n",
        "# Resultados do novo modelo\n",
        "print(\"\\nResumo do Modelo com Dummy para Outliers:\")\n",
        "print(modelo_com_dummy.summary())"
      ],
      "metadata": {
        "id": "Kbv7prmTZu2G"
      },
      "execution_count": null,
      "outputs": []
    },
    {
      "cell_type": "code",
      "source": [
        "# Obtendo os resíduos\n",
        "residuos2 = modelo_com_dummy.resid\n",
        "\n",
        "# Gerando o histograma dos resíduos\n",
        "plt.hist(residuos2, color='gray',edgecolor='black', density=True)\n",
        "plt.xlabel(\"Resíduos\")\n",
        "plt.ylabel(\"Frequência\")\n",
        "plt.plot(kde.support, kde.density, color='black', linewidth=2)\n",
        "plt.title(\"Histograma dos Resíduos após ajuste com dummies\")\n",
        "plt.show()"
      ],
      "metadata": {
        "id": "WGobaRpXaFzT"
      },
      "execution_count": null,
      "outputs": []
    },
    {
      "cell_type": "markdown",
      "source": [
        "# Variaveis padronizadas"
      ],
      "metadata": {
        "id": "Bp5AxLfIdAir"
      }
    },
    {
      "cell_type": "code",
      "source": [
        "# Ajustar o modelo com variáveis padronizadas\n",
        "betareg = smf.ols(formula='CAR ~ ROA + OEE + NPL+ ROE + GAP + LNPL + NPL2 + Banco', data=dados)\n",
        "results_betareg = betareg.fit(cov_type='HAC',cov_kwds={'maxlags':6,'use_correction':True})\n",
        "\n",
        "# Resultados do novo modelo\n",
        "print(\"\\nResumo do Modelo com variáveis padronizadas:\")\n",
        "print(results_betareg.summary())"
      ],
      "metadata": {
        "id": "Z0zE2Mwrdn2b"
      },
      "execution_count": null,
      "outputs": []
    },
    {
      "cell_type": "code",
      "source": [
        "import pandas as pd\n",
        "from sklearn import preprocessing\n",
        "from sklearn.preprocessing import RobustScaler  # Import RobustScaler\n",
        "\n",
        "# Assuming 'Data' is the column with dates\n",
        "# Select only numerical features for scaling\n",
        "numerical_features = dados.select_dtypes(include=['number']).columns\n",
        "robust_scaler = RobustScaler()  # Create an instance of RobustScaler\n",
        "dados_robust = robust_scaler.fit_transform(dados[numerical_features])\n",
        "\n",
        "# Create a DataFrame with the scaled numerical features\n",
        "dados_robust_df = pd.DataFrame(dados_robust, columns=numerical_features, index=dados.index)  # Preserve original index\n",
        "\n",
        "# Concatenate the scaled numerical features with the original non-numerical features\n",
        "dados_robust_df = pd.concat([dados.drop(columns=numerical_features), dados_robust_df], axis=1)\n",
        "\n",
        "display(dados_robust_df.head())\n",
        "display(dados_robust_df.head())"
      ],
      "metadata": {
        "id": "Oe3FvWnQghSw"
      },
      "execution_count": null,
      "outputs": []
    },
    {
      "cell_type": "code",
      "source": [
        "dados_med = smf.ols(formula='CAR ~ ROA + OEE + NPL+ ROE + GAP + LNPL + NPL2 + Banco', data=dados_robust_df)\n",
        "results_ER = dados_med.fit(cov_type='HAC',cov_kwds={'maxlags':6,'use_correction':True})\n",
        "\n",
        "# Resultados do novo modelo\n",
        "print(\"\\nResumo do Modelo com Escalonamento Robusto:\")\n",
        "print(results_ER.summary())\n"
      ],
      "metadata": {
        "id": "tzilihheid4x"
      },
      "execution_count": null,
      "outputs": []
    },
    {
      "cell_type": "code",
      "source": [
        "res = smf.quantreg('CAR ~ ROA + OEE + NPL+ ROE + GAP + LNPL + NPL2 + Banco', dados).fit(q=0.5)\n",
        "print(res.summary())"
      ],
      "metadata": {
        "id": "SFYF21USMK2v"
      },
      "execution_count": null,
      "outputs": []
    }
  ]
}